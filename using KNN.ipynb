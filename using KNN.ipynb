{
 "cells": [
  {
   "cell_type": "code",
   "execution_count": 1,
   "id": "fc08777e",
   "metadata": {},
   "outputs": [],
   "source": [
    "import os\n",
    "import sys\n",
    "import pandas as pd\n",
    "import numpy as np\n",
    "import matplotlib.pyplot as plt\n",
    "import seaborn as sns\n",
    "from scipy import sparse\n",
    "from sklearn.model_selection import train_test_split\n",
    "from datetime import datetime\n",
    "import statistics\n",
    "import math"
   ]
  },
  {
   "cell_type": "code",
   "execution_count": 2,
   "id": "643a7cd4",
   "metadata": {},
   "outputs": [
    {
     "name": "stdout",
     "output_type": "stream",
     "text": [
      "<bound method NDFrame.head of        userId  movie id  rating  timestamp\n",
      "0         196       242       3  881250949\n",
      "1         186       302       3  891717742\n",
      "2          22       377       1  878887116\n",
      "3         244        51       2  880606923\n",
      "4         166       346       1  886397596\n",
      "...       ...       ...     ...        ...\n",
      "99995     880       476       3  880175444\n",
      "99996     716       204       5  879795543\n",
      "99997     276      1090       1  874795795\n",
      "99998      13       225       2  882399156\n",
      "99999      12       203       3  879959583\n",
      "\n",
      "[100000 rows x 4 columns]>\n",
      "943 1 1682 1\n"
     ]
    }
   ],
   "source": [
    "# importing required dataset - u.data\n",
    "cols = ['userId', 'movie id', 'rating', 'timestamp']\n",
    "df = pd.read_csv(r'F:\\Harshi College\\MS DA\\Machine Learning\\lab\\recommender system - movie lens\\ml-100k\\u.data',sep='\\t', names=cols)\n",
    "print(df.head)\n",
    "print(max(df['userId']), min(df['userId']), max(df['movie id']), min(df['movie id']))"
   ]
  },
  {
   "cell_type": "code",
   "execution_count": 3,
   "id": "0fbb457a",
   "metadata": {},
   "outputs": [
    {
     "data": {
      "text/plain": [
       "(100000, 4)"
      ]
     },
     "execution_count": 3,
     "metadata": {},
     "output_type": "execute_result"
    }
   ],
   "source": [
    "df.shape"
   ]
  },
  {
   "cell_type": "markdown",
   "id": "a91889f9",
   "metadata": {},
   "source": [
    "##### table creation - training data"
   ]
  },
  {
   "cell_type": "code",
   "execution_count": 4,
   "id": "dcf762ec",
   "metadata": {},
   "outputs": [],
   "source": [
    "# Function to insert row in the dataframe\n",
    "def Insert_row_(row_number, df, row_value):\n",
    "    # Slice the upper half of the dataframe\n",
    "    df1 = df[0:row_number]\n",
    "  \n",
    "    # Store the result of lower half of the dataframe\n",
    "    df2 = df[row_number:]\n",
    "  \n",
    "    # Insert the row in the upper half dataframe\n",
    "    df1.loc[row_number]=row_value\n",
    "  \n",
    "    # Concat the two dataframes\n",
    "    df_result = pd.concat([df1, df2])\n",
    "  \n",
    "    # Reassign the index labels\n",
    "    df_result.index = [*range(df_result.shape[0])]\n",
    "  \n",
    "    # Return the updated dataframe\n",
    "    return df_result"
   ]
  },
  {
   "cell_type": "code",
   "execution_count": 5,
   "id": "0bfeceff",
   "metadata": {
    "scrolled": false
   },
   "outputs": [],
   "source": [
    "def tableCreation():\n",
    "    # converting training data into df\n",
    "    trTable = training_data.pivot(index='userId', columns='movie id', values='rating')\n",
    "    # Replace NaN Values with Zeros in Pandas DataFrame\n",
    "    trTable = trTable.replace(np.nan, 0)\n",
    "    \n",
    "    # col validation until last but one column\n",
    "    for i in range(1, max(df['movie id'])+1):\n",
    "        try:\n",
    "            if(i-1 == trTable.columns.get_loc(i)):\n",
    "#                 print(i)\n",
    "                continue\n",
    "\n",
    "        except KeyError:\n",
    "#             print(i, \"not foundddd=========\")\n",
    "            trTable.insert(i-1, i,  [0] * len(trTable[i-1]))\n",
    "    \n",
    "    # rows validation until last but one column\n",
    "\n",
    "    # Get row-index values of Pandas DataFrame as list\n",
    "    rowIndList = trTable.index.values.tolist()\n",
    "    for i in range(1, max(df['userId'])):\n",
    "        if(rowIndList[i-1] == i):\n",
    "            continue\n",
    "\n",
    "        else:\n",
    "#             print(i, \"not foundddd\\\\\\\\\\\\\\\\\\\\\\\\\\\\\\\\\\\\\\\\\\\\\")\n",
    "            row_number = i\n",
    "            row_value = [0] * len(trTable.iloc[i-1])\n",
    "            trTable_df = Insert_row_(row_number, trTable, row_value)\n",
    "            trTable = trTable_df\n",
    "\n",
    "    trTable.to_csv(\"trTable_dfuooo.csv\")\n",
    "    \n",
    "    return trTable\n"
   ]
  },
  {
   "cell_type": "markdown",
   "id": "700e00e2",
   "metadata": {},
   "source": [
    "##### find cosine similarity between the users in training data"
   ]
  },
  {
   "cell_type": "code",
   "execution_count": 6,
   "id": "e1f319fb",
   "metadata": {},
   "outputs": [],
   "source": [
    "def findSimilarity(table_tr_data):\n",
    "    trTable = table_tr_data \n",
    "#     list that will contain the sim values whoch will be converted to df\n",
    "    simTrList = []\n",
    "    \n",
    "    # finding the len of df to iterate\n",
    "    lenOfTrTable = len(trTable[1])+1\n",
    "\n",
    "    # Pandas Dataframe.to_numpy() – Convert dataframe to Numpy array\n",
    "    List1 = trTable.to_numpy()\n",
    "\n",
    "    for everyRow in range(1, lenOfTrTable):\n",
    "    # iterating row by row in df\n",
    "        List2 = (trTable.loc[everyRow]).to_numpy()\n",
    "        similarity_scores = List1.dot(List2)/ (np.linalg.norm(List1, axis=1) * np.linalg.norm(List2))\n",
    "       \n",
    "        simTrList.append(similarity_scores)\n",
    "        \n",
    "    simTrDf = pd.DataFrame(simTrList)\n",
    "#     writing df into csv\n",
    "    simTrDf.to_csv(\"similarity btwn users - training data.csv\")\n",
    "    return simTrDf\n",
    "\n"
   ]
  },
  {
   "cell_type": "markdown",
   "id": "577434fa",
   "metadata": {},
   "source": [
    "##### table creation - testing data"
   ]
  },
  {
   "cell_type": "code",
   "execution_count": 7,
   "id": "a3f9bb00",
   "metadata": {},
   "outputs": [],
   "source": [
    "def testTableCreation():\n",
    "    # table craetion \n",
    "    (tstTable) = testing_data.pivot(index='userId', columns='movie id', values='rating')\n",
    "    tstTable = tstTable.replace(np.nan, 0)\n",
    "    tstTable.to_csv(\"preetstTable_dfuooo.csv\")\n",
    "    # col validation until last but one column\n",
    "    for i in range(1, max(df['movie id'])+1):\n",
    "        try:\n",
    "            if(i-1 == tstTable.columns.get_loc(i)):\n",
    "    #                 print(i)\n",
    "                continue\n",
    "\n",
    "        except KeyError:\n",
    "#             print(i, \"not foundddd=========\")\n",
    "            tstTable.insert(i-1, i,  [0] * len(tstTable[i-1]))\n",
    "\n",
    "    # rows validation until last but one column\n",
    "\n",
    "    # Get row-index values of Pandas DataFrame as list\n",
    "    rowIndList = tstTable.index.values.tolist()\n",
    "    \n",
    "    flag = 0\n",
    "    for i in range(1, len(tstTable)+1):\n",
    "        if i not in rowIndList:\n",
    "            flag = 1\n",
    "#             print(i)\n",
    "            row_number = i\n",
    "            row_value = [0] * len(tstTable.iloc[i-1])\n",
    "            tstTable_df = Insert_row_(row_number, tstTable, row_value)\n",
    "    \n",
    "\n",
    "    #copy the new df to old df only if missing rows are added\n",
    "    if(flag == 1):\n",
    "        tstTable = tstTable_df\n",
    "    \n",
    "    tstTable.to_csv(\"tstTable_dfuooo.csv\")\n",
    "    return tstTable\n"
   ]
  },
  {
   "cell_type": "code",
   "execution_count": 8,
   "id": "20e43134",
   "metadata": {},
   "outputs": [],
   "source": [
    "def findKNN(everyUser, everyMovie):\n",
    "    sortedUserCol = sorted(list(sim_btwn_users[everyUser-1]), reverse=True)\n",
    "    simValList, simValIndList = [], []\n",
    "    for j in range(30): \n",
    "#         extracting top 30 NN\n",
    "        simVal = sortedUserCol[j]\n",
    "        simValList.append(simVal)\n",
    "        \n",
    "#         extracting the index of top 30 NN \n",
    "        simValInd = list(sim_btwn_users[everyUser-1]).index(sortedUserCol[j])\n",
    "        simValIndList.append(simValInd)\n",
    "        \n",
    "    ratingsValList = []\n",
    "    for NN_user in range(0,len(simValIndList)):\n",
    "        try:\n",
    "#         finding ratings for NNusers and movieId\n",
    "            ratingsVal = tstTable[simValIndList[NN_user]][everyMovie]\n",
    "\n",
    "        except:\n",
    "            ratingsVal = 0\n",
    "\n",
    "        finally:\n",
    "#                 print(f\"{ratingsVal} for {simValIndList[NN_user]}\")\n",
    "            ratingsValList.append(ratingsVal)\n",
    "            \n",
    "                   \n",
    "#     print(f\"\\n30NN for user:{everyUser}\\n\\nsimValList\\n{simValList}\\n\\nsimValIndList\\n{simValIndList}\\n\\nratingsValList\\n{ratingsValList}\\n\\n\")\n",
    "        \n",
    "    return simValList, simValIndList, ratingsValList\n",
    "    \n",
    "# # findKNN(everyUser, everyMovie)\n",
    "# for i in range(len(findKNN(1, 1))):\n",
    "#     print(findKNN(1, 1)[i])\n"
   ]
  },
  {
   "cell_type": "code",
   "execution_count": 9,
   "id": "6532802d",
   "metadata": {},
   "outputs": [],
   "source": [
    "# workinf and modifes code\n",
    "def predictRatings(everyUser, everyMovie, everyRating):\n",
    "    \n",
    "    everyMovie = everyMovie + 1\n",
    "#     print(\"\\n\\ncomputing below for\",everyUser, everyMovie, everyRating)\n",
    "#     everyUser = everyUser - 1\n",
    "    sim, ind, rat = findKNN(everyUser, everyMovie)\n",
    "#     print(rat)\n",
    "\n",
    "    diffList = []\n",
    "    \n",
    "    if(len(set(rat)) == 1):\n",
    "        actual = everyRating\n",
    "        pred = 0\n",
    "        diff = (actual - pred)**2\n",
    "        diffList.append(diff)\n",
    "        \n",
    "    else:\n",
    "        actual = everyRating\n",
    "        simDr = 0\n",
    "        simNr = 0\n",
    "        for everyVal in range(len(rat)):\n",
    "            if(rat[everyVal] != 0):\n",
    "                simNr = (rat[everyVal] * sim[everyVal]) + simNr\n",
    "                simDr = simDr + sim[everyVal]\n",
    "                pred = simNr/simDr\n",
    "                \n",
    "        diff = (actual - pred)**2\n",
    "        diffList.append(diff)\n",
    "    \n",
    "    rmse = math.sqrt(statistics.mean(l))\n",
    "    return rmse\n",
    "        \n",
    "\n",
    "\n"
   ]
  },
  {
   "cell_type": "markdown",
   "id": "6dddeabb",
   "metadata": {},
   "source": [
    "##### function calling from __main__"
   ]
  },
  {
   "cell_type": "code",
   "execution_count": null,
   "id": "0961cd85",
   "metadata": {},
   "outputs": [],
   "source": []
  },
  {
   "cell_type": "code",
   "execution_count": 10,
   "id": "538045b9",
   "metadata": {},
   "outputs": [
    {
     "name": "stdout",
     "output_type": "stream",
     "text": [
      "No. of training examples: 80000\n",
      "No. of testing examples: 20000\n",
      "start time = 08:53:19.134652\n"
     ]
    },
    {
     "name": "stderr",
     "output_type": "stream",
     "text": [
      "C:\\Users\\Admin\\AppData\\Local\\Programs\\Python\\Python310\\lib\\site-packages\\IPython\\core\\interactiveshell.py:3457: PerformanceWarning: DataFrame is highly fragmented.  This is usually the result of calling `frame.insert` many times, which has poor performance.  Consider joining all columns at once using pd.concat(axis=1) instead.  To get a de-fragmented frame, use `newframe = frame.copy()`\n",
      "  exec(code_obj, self.user_global_ns, self.user_ns)\n"
     ]
    },
    {
     "ename": "NameError",
     "evalue": "name 'l' is not defined",
     "output_type": "error",
     "traceback": [
      "\u001b[1;31m---------------------------------------------------------------------------\u001b[0m",
      "\u001b[1;31mNameError\u001b[0m                                 Traceback (most recent call last)",
      "\u001b[1;32m~\\AppData\\Local\\Temp/ipykernel_1296/3891954323.py\u001b[0m in \u001b[0;36m<module>\u001b[1;34m\u001b[0m\n\u001b[0;32m     38\u001b[0m     \u001b[1;31m#             call findKNN function\u001b[0m\u001b[1;33m\u001b[0m\u001b[1;33m\u001b[0m\u001b[0m\n\u001b[0;32m     39\u001b[0m     \u001b[1;31m#             findKNN(everyUser, everyMovie)\u001b[0m\u001b[1;33m\u001b[0m\u001b[1;33m\u001b[0m\u001b[0m\n\u001b[1;32m---> 40\u001b[1;33m                 \u001b[0mdiff\u001b[0m \u001b[1;33m=\u001b[0m \u001b[0mpredictRatings\u001b[0m\u001b[1;33m(\u001b[0m\u001b[0meveryUser\u001b[0m\u001b[1;33m,\u001b[0m \u001b[0meveryMovie\u001b[0m\u001b[1;33m,\u001b[0m \u001b[0meveryRating\u001b[0m\u001b[1;33m)\u001b[0m\u001b[1;33m\u001b[0m\u001b[1;33m\u001b[0m\u001b[0m\n\u001b[0m\u001b[0;32m     41\u001b[0m                 \u001b[0mdiffList\u001b[0m\u001b[1;33m.\u001b[0m\u001b[0mappend\u001b[0m\u001b[1;33m(\u001b[0m\u001b[0mdiff\u001b[0m\u001b[1;33m)\u001b[0m\u001b[1;33m\u001b[0m\u001b[1;33m\u001b[0m\u001b[0m\n\u001b[0;32m     42\u001b[0m \u001b[1;33m\u001b[0m\u001b[0m\n",
      "\u001b[1;32m~\\AppData\\Local\\Temp/ipykernel_1296/1690387577.py\u001b[0m in \u001b[0;36mpredictRatings\u001b[1;34m(everyUser, everyMovie, everyRating)\u001b[0m\n\u001b[0;32m     29\u001b[0m         \u001b[0mdiffList\u001b[0m\u001b[1;33m.\u001b[0m\u001b[0mappend\u001b[0m\u001b[1;33m(\u001b[0m\u001b[0mdiff\u001b[0m\u001b[1;33m)\u001b[0m\u001b[1;33m\u001b[0m\u001b[1;33m\u001b[0m\u001b[0m\n\u001b[0;32m     30\u001b[0m \u001b[1;33m\u001b[0m\u001b[0m\n\u001b[1;32m---> 31\u001b[1;33m     \u001b[0mrmse\u001b[0m \u001b[1;33m=\u001b[0m \u001b[0mmath\u001b[0m\u001b[1;33m.\u001b[0m\u001b[0msqrt\u001b[0m\u001b[1;33m(\u001b[0m\u001b[0mstatistics\u001b[0m\u001b[1;33m.\u001b[0m\u001b[0mmean\u001b[0m\u001b[1;33m(\u001b[0m\u001b[0ml\u001b[0m\u001b[1;33m)\u001b[0m\u001b[1;33m)\u001b[0m\u001b[1;33m\u001b[0m\u001b[1;33m\u001b[0m\u001b[0m\n\u001b[0m\u001b[0;32m     32\u001b[0m     \u001b[1;32mreturn\u001b[0m \u001b[0mrmse\u001b[0m\u001b[1;33m\u001b[0m\u001b[1;33m\u001b[0m\u001b[0m\n\u001b[0;32m     33\u001b[0m \u001b[1;33m\u001b[0m\u001b[0m\n",
      "\u001b[1;31mNameError\u001b[0m: name 'l' is not defined"
     ]
    }
   ],
   "source": [
    "# workingg codeee\n",
    "from sklearn.model_selection import train_test_split\n",
    "rmseChunkList = []\n",
    "for rs in range(10,15):\n",
    "    countRatTest = 0\n",
    "    outer, inner = [], []\n",
    "    training_data, testing_data = train_test_split(df, test_size=0.2, random_state=rs)\n",
    "\n",
    "    print(f\"No. of training examples: {training_data.shape[0]}\")\n",
    "    print(f\"No. of testing examples: {testing_data.shape[0]}\")\n",
    "    \n",
    "    now = datetime.now().time() # time object\n",
    "    print(\"start time =\", now)\n",
    "\n",
    "    table_tr_data = tableCreation()\n",
    "    sim_btwn_users = findSimilarity(table_tr_data)\n",
    "\n",
    "    diffList = []\n",
    "    tstTable = testTableCreation()\n",
    "    # finding not null values in df\n",
    "    for everyUser in range(1, len(tstTable)+1):\n",
    "        try:\n",
    "            idx = pd.Index(tstTable.loc[everyUser])\n",
    "            \n",
    "        except:\n",
    "    #         some userId might not exist. so handling such scenarios\n",
    "            continue\n",
    "\n",
    "    #     diffList = []=================\n",
    "        \n",
    "        for everyMovie in range(0, len(list(idx))):\n",
    "            everyRating = list(idx)[everyMovie]\n",
    "            outer.append([everyUser, everyMovie, everyRating,\"\\n\"])\n",
    "            if(everyRating != 0):\n",
    "                inner.append([everyUser, everyMovie, everyRating,\"\\n\"])\n",
    "                countRatTest += 1\n",
    "                #predict for val\n",
    "    #             call findKNN function\n",
    "    #             findKNN(everyUser, everyMovie)\n",
    "                diff = predictRatings(everyUser, everyMovie, everyRating)\n",
    "                diffList.append(diff)\n",
    "\n",
    "    print(f\"\\nnumber of values for which predictions are made : {len(diffList)}\\n\") \n",
    "    print(\"\\ncountRatTest\\n\",countRatTest)\n",
    "    import math\n",
    "    import statistics\n",
    "    rmse = statistics.mean(diffList)  \n",
    "    rmse = math.sqrt(rmse)\n",
    "    print(\"\\nthe rmse is\",rmse)\n",
    "\n",
    "    now = datetime.now().time() # time object\n",
    "    print(\"\\nend time =\", now)\n",
    "    print(\"\\n===========================================================\\n\")\n",
    "    rmseChunkList.append(rmse)\n",
    "\n",
    "print(f\"the rmse of the model is {statistics.mean(rmseChunkList)}\")"
   ]
  },
  {
   "cell_type": "code",
   "execution_count": null,
   "id": "74378d78",
   "metadata": {},
   "outputs": [],
   "source": [
    "the rmse of the model is 1.9009263695916123"
   ]
  },
  {
   "cell_type": "code",
   "execution_count": null,
   "id": "31fa1019",
   "metadata": {},
   "outputs": [],
   "source": [
    "https://www.statology.org/rmse-python/#:~:text=To%20calculate%20the%20RMSE%20between,What%20is%20this%3F&text=The%20RMSE%20turns%20out%20to%20be%202.4324."
   ]
  }
 ],
 "metadata": {
  "kernelspec": {
   "display_name": "Python 3 (ipykernel)",
   "language": "python",
   "name": "python3"
  },
  "language_info": {
   "codemirror_mode": {
    "name": "ipython",
    "version": 3
   },
   "file_extension": ".py",
   "mimetype": "text/x-python",
   "name": "python",
   "nbconvert_exporter": "python",
   "pygments_lexer": "ipython3",
   "version": "3.10.0"
  }
 },
 "nbformat": 4,
 "nbformat_minor": 5
}
